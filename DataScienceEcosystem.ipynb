{
 "cells": [
  {
   "cell_type": "markdown",
   "id": "449ea5e5-2beb-41a9-af74-a8df92e7f6f9",
   "metadata": {},
   "source": [
    "# Data Science Tools and Ecosystem"
   ]
  },
  {
   "cell_type": "markdown",
   "id": "350ac111-6ae7-427d-ba1a-b5a1f42480fd",
   "metadata": {},
   "source": [
    "In this notebook, Data Science Tools and Ecosystem are summarized."
   ]
  },
  {
   "cell_type": "markdown",
   "id": "7cfbd031-dd25-4461-a28c-10399a6f87db",
   "metadata": {},
   "source": [
    "Some of the popular languages that Data Scientists use are:\n",
    "\n",
    "1. Python\n",
    "2. R\n",
    "3. SQL\n",
    "   "
   ]
  },
  {
   "cell_type": "markdown",
   "id": "4e5a4d12-7f4c-4a91-8917-3b0f169e9609",
   "metadata": {},
   "source": [
    "Some of the commonly used libraries used by Data Scientists include:\n",
    "1. Scikit-learn\n",
    "2. Pandas\n",
    "3. Scipy\n",
    "4. Matplotlib"
   ]
  },
  {
   "cell_type": "markdown",
   "id": "e9209c87-2f8b-43a6-8c05-624756bc2d14",
   "metadata": {},
   "source": [
    "\n",
    "| Data Science Tools | \n",
    "| --- |\n",
    "| Jupyter Notebook  |\n",
    "| R Studio |\n",
    "| Spyder |"
   ]
  },
  {
   "cell_type": "markdown",
   "id": "9b3e947f-2e87-4be7-98dc-71ed06335a50",
   "metadata": {},
   "source": [
    "### Below are a few examples of evaluating arithmetic expressions in Python"
   ]
  },
  {
   "cell_type": "code",
   "execution_count": 1,
   "id": "fb70ef92-a719-413a-8dec-39a1121cd2c2",
   "metadata": {},
   "outputs": [
    {
     "data": {
      "text/plain": [
       "17"
      ]
     },
     "execution_count": 1,
     "metadata": {},
     "output_type": "execute_result"
    }
   ],
   "source": [
    "#This a simple arithmetic expression to mutiply then add integers\n",
    "(3*4)+5"
   ]
  },
  {
   "cell_type": "code",
   "execution_count": 4,
   "id": "7752a27a-2942-4059-a804-4b1c2e568aed",
   "metadata": {},
   "outputs": [
    {
     "name": "stdout",
     "output_type": "stream",
     "text": [
      "3.33 hours\n"
     ]
    }
   ],
   "source": [
    "#This will convert 200 minutes to hours by diving by 60\n",
    "a=200/60\n",
    "print(f\"{round(a,2)} hours\")"
   ]
  },
  {
   "cell_type": "markdown",
   "id": "0fea40a1-1bdc-499a-a045-b62980ae89d2",
   "metadata": {},
   "source": [
    "**Objectives:**\n",
    "* Python\n",
    "* R\n",
    "* SQL\n",
    "* Julia\n",
    "* C++"
   ]
  },
  {
   "cell_type": "markdown",
   "id": "8ead3747-e9b2-438f-baba-a15442c3440e",
   "metadata": {},
   "source": [
    "## Author\n",
    "Vincent Pozos"
   ]
  },
  {
   "cell_type": "code",
   "execution_count": null,
   "id": "69a4b293-d11f-4fa0-9109-168f45478b9f",
   "metadata": {},
   "outputs": [],
   "source": []
  }
 ],
 "metadata": {
  "kernelspec": {
   "display_name": "Python [conda env:base] *",
   "language": "python",
   "name": "conda-base-py"
  },
  "language_info": {
   "codemirror_mode": {
    "name": "ipython",
    "version": 3
   },
   "file_extension": ".py",
   "mimetype": "text/x-python",
   "name": "python",
   "nbconvert_exporter": "python",
   "pygments_lexer": "ipython3",
   "version": "3.12.7"
  }
 },
 "nbformat": 4,
 "nbformat_minor": 5
}
